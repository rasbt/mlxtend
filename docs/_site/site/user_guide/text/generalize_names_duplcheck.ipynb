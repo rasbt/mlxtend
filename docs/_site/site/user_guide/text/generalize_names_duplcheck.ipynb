{
 "cells": [
  {
   "cell_type": "markdown",
   "metadata": {},
   "source": [
    "# Generalize Names & Duplicate Checking"
   ]
  },
  {
   "cell_type": "markdown",
   "metadata": {},
   "source": [
    "A function that converts a name into a general format ` <last_name><separator><firstname letter(s)> (all lowercase)` in a `pandas DataFrame` while avoiding duplicate entries."
   ]
  },
  {
   "cell_type": "markdown",
   "metadata": {},
   "source": [
    "> from mlxtend.text import generalize_names_duplcheck"
   ]
  },
  {
   "cell_type": "markdown",
   "metadata": {},
   "source": [
    "## Overview"
   ]
  },
  {
   "cell_type": "markdown",
   "metadata": {},
   "source": [
    "**Note** that using [`mlxtend.text.generalize_names`](./generalize_names.md) with few `firstname_output_letters` can result in duplicate entries. E.g., if your dataset contains the names \"Adam Johnson\" and \"Andrew Johnson\", the default setting (i.e., 1 first name letter) will produce the generalized name \"johnson a\" in both cases.\n",
    "\n",
    "One solution is to increase the number of first name letters in the output by setting the parameter `firstname_output_letters` to a value larger than 1. \n",
    "\n",
    "An alternative solution is to use the `generalize_names_duplcheck` function if you are working with pandas DataFrames. \n",
    "\n",
    "\n",
    "By default,  `generalize_names_duplcheck` will apply  `generalize_names` to a pandas DataFrame column with the minimum number of first name letters and append as many first name letters as necessary until no duplicates are present in the given DataFrame column. An example dataset column that contains the names  "
   ]
  },
  {
   "cell_type": "markdown",
   "metadata": {},
   "source": [
    "### References\n",
    "\n",
    "- -"
   ]
  },
  {
   "cell_type": "markdown",
   "metadata": {},
   "source": [
    "## Example 1 - Defaults"
   ]
  },
  {
   "cell_type": "markdown",
   "metadata": {},
   "source": [
    "Reading in a CSV file that has column `Name` for which we want to generalize the names:\n",
    "\n",
    "- Samuel Eto'o\n",
    "- Adam Johnson\n",
    "- Andrew Johnson"
   ]
  },
  {
   "cell_type": "code",
   "execution_count": 1,
   "metadata": {},
   "outputs": [
    {
     "data": {
      "text/html": [
       "<div>\n",
       "<table border=\"1\" class=\"dataframe\">\n",
       "  <thead>\n",
       "    <tr style=\"text-align: right;\">\n",
       "      <th></th>\n",
       "      <th>name</th>\n",
       "      <th>some_value</th>\n",
       "    </tr>\n",
       "  </thead>\n",
       "  <tbody>\n",
       "    <tr>\n",
       "      <th>0</th>\n",
       "      <td>Samuel Eto'o</td>\n",
       "      <td>1</td>\n",
       "    </tr>\n",
       "    <tr>\n",
       "      <th>1</th>\n",
       "      <td>Adam Johnson</td>\n",
       "      <td>1</td>\n",
       "    </tr>\n",
       "    <tr>\n",
       "      <th>2</th>\n",
       "      <td>Andrew Johnson</td>\n",
       "      <td>1</td>\n",
       "    </tr>\n",
       "  </tbody>\n",
       "</table>\n",
       "</div>"
      ],
      "text/plain": [
       "             name  some_value\n",
       "0    Samuel Eto'o           1\n",
       "1    Adam Johnson           1\n",
       "2  Andrew Johnson           1"
      ]
     },
     "execution_count": 1,
     "metadata": {},
     "output_type": "execute_result"
    }
   ],
   "source": [
    "import pandas as pd\n",
    "from io import StringIO\n",
    "\n",
    "simulated_csv = \"name,some_value\\n\"\\\n",
    "                \"Samuel Eto'o,1\\n\"\\\n",
    "                \"Adam Johnson,1\\n\"\\\n",
    "                \"Andrew Johnson,1\\n\"\n",
    "\n",
    "df = pd.read_csv(StringIO(simulated_csv))\n",
    "df"
   ]
  },
  {
   "cell_type": "markdown",
   "metadata": {},
   "source": [
    "Applying `generalize_names_duplcheck` to generate a new DataFrame with the generalized names without duplicates: "
   ]
  },
  {
   "cell_type": "code",
   "execution_count": 2,
   "metadata": {},
   "outputs": [
    {
     "data": {
      "text/html": [
       "<div>\n",
       "<table border=\"1\" class=\"dataframe\">\n",
       "  <thead>\n",
       "    <tr style=\"text-align: right;\">\n",
       "      <th></th>\n",
       "      <th>name</th>\n",
       "      <th>some_value</th>\n",
       "    </tr>\n",
       "  </thead>\n",
       "  <tbody>\n",
       "    <tr>\n",
       "      <th>0</th>\n",
       "      <td>etoo s</td>\n",
       "      <td>1</td>\n",
       "    </tr>\n",
       "    <tr>\n",
       "      <th>1</th>\n",
       "      <td>johnson ad</td>\n",
       "      <td>1</td>\n",
       "    </tr>\n",
       "    <tr>\n",
       "      <th>2</th>\n",
       "      <td>johnson an</td>\n",
       "      <td>1</td>\n",
       "    </tr>\n",
       "  </tbody>\n",
       "</table>\n",
       "</div>"
      ],
      "text/plain": [
       "         name  some_value\n",
       "0      etoo s           1\n",
       "1  johnson ad           1\n",
       "2  johnson an           1"
      ]
     },
     "execution_count": 2,
     "metadata": {},
     "output_type": "execute_result"
    }
   ],
   "source": [
    "from mlxtend.text import generalize_names_duplcheck\n",
    "df_new = generalize_names_duplcheck(df=df, col_name='name')\n",
    "df_new"
   ]
  },
  {
   "cell_type": "markdown",
   "metadata": {},
   "source": [
    "## API"
   ]
  },
  {
   "cell_type": "code",
   "execution_count": 1,
   "metadata": {},
   "outputs": [
    {
     "name": "stdout",
     "output_type": "stream",
     "text": [
      "## generalize_names_duplcheck\n",
      "\n",
      "*generalize_names_duplcheck(df, col_name)*\n",
      "\n",
      "Generalizes names and removes duplicates.\n",
      "\n",
      "Applies mlxtend.text.generalize_names to a DataFrame\n",
      "with 1 first name letter by default\n",
      "and uses more first name letters if duplicates are detected.\n",
      "\n",
      "**Parameters**\n",
      "\n",
      "- `df` : `pandas.DataFrame`\n",
      "\n",
      "    DataFrame that contains a column where\n",
      "    generalize_names should be applied.\n",
      "\n",
      "- `col_name` : `str`\n",
      "\n",
      "    Name of the DataFrame column where `generalize_names`\n",
      "    function should be applied to.\n",
      "\n",
      "**Returns**\n",
      "\n",
      "- `df_new` : `str`\n",
      "\n",
      "    New DataFrame object where generalize_names function has\n",
      "    been applied without duplicates.\n",
      "\n",
      "**Examples**\n",
      "\n",
      "For usage examples, please see\n",
      "    [http://rasbt.github.io/mlxtend/user_guide/text/generalize_names_duplcheck/](http://rasbt.github.io/mlxtend/user_guide/text/generalize_names_duplcheck/)\n",
      "\n",
      "\n"
     ]
    }
   ],
   "source": [
    "with open('../../api_modules/mlxtend.text/generalize_names_duplcheck.md', 'r') as f:\n",
    "    print(f.read())"
   ]
  }
 ],
 "metadata": {
  "anaconda-cloud": {},
  "kernelspec": {
   "display_name": "Python 3",
   "language": "python",
   "name": "python3"
  },
  "language_info": {
   "codemirror_mode": {
    "name": "ipython",
    "version": 3
   },
   "file_extension": ".py",
   "mimetype": "text/x-python",
   "name": "python",
   "nbconvert_exporter": "python",
   "pygments_lexer": "ipython3",
   "version": "3.6.7"
  },
  "toc": {
   "nav_menu": {},
   "number_sections": true,
   "sideBar": true,
   "skip_h1_title": false,
   "title_cell": "Table of Contents",
   "title_sidebar": "Contents",
   "toc_cell": false,
   "toc_position": {},
   "toc_section_display": true,
   "toc_window_display": false
  }
 },
 "nbformat": 4,
 "nbformat_minor": 1
}
