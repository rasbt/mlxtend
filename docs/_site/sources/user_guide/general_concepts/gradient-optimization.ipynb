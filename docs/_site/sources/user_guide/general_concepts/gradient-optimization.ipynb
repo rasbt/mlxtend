{
 "cells": [
  {
   "cell_type": "markdown",
   "metadata": {},
   "source": [
    "# Gradient Descent and Stochastic Gradient Descent"
   ]
  },
  {
   "cell_type": "markdown",
   "metadata": {},
   "source": [
    "### Gradient Descent (GD) Optimization"
   ]
  },
  {
   "cell_type": "markdown",
   "metadata": {},
   "source": [
    "Using the Gradient Decent optimization algorithm, the weights are updated incrementally after each epoch (= pass over the training dataset).\n",
    "\n",
    "Compatible cost functions $J(\\cdot)$\n",
    "\n",
    "- Sum of squared errors (SSE) [ [mlxtend.regressor.LinearRegression](../regressor/LinearRegression.md), [mlxtend.classfier.Adaline](../classifier/Adaline.md) ]:\n",
    "$$J(\\mathbf{w}) = \\frac{1}{2} \\sum_i (\\text{target}^{(i)} - \\text{output}^{(i)})^2$$\n",
    "\n",
    "\n",
    "- Logistic Cost (cross-entropy) [ [mlxtend.classfier.LogisticRegression](../classifier/LogisticRegression.md) ]:\n",
    "...\n",
    "\n",
    "\n",
    "The magnitude and direction of the weight update is computed by taking a step in the opposite direction of the cost gradient\n",
    "\n",
    "$$\\Delta w_j = -\\eta \\frac{\\partial J}{\\partial w_j},$$\n",
    "\n",
    "where $\\eta$ is the learning rate. The weights are then updated after each epoch via the following update rule:\n",
    "\n",
    "$$\\mathbf{w} := \\mathbf{w} + \\Delta\\mathbf{w},$$\n",
    "\n",
    "where $\\Delta\\mathbf{w}$ is a vector that contains the weight updates of each weight coefficient ${w}$, which are computed as follows:\n",
    "\n",
    "$$\\Delta w_j = -\\eta \\frac{\\partial J}{\\partial w_j}\\\\\n",
    "= -\\eta \\sum_i (\\text{target}^{(i)} - \\text{output}^{(i)})(-x_{j}^{(i)})\\\\\n",
    "= \\eta \\sum_i (\\text{target}^{(i)} - \\text{output}^{(i)})x_{j}^{(i)}.$$"
   ]
  },
  {
   "cell_type": "markdown",
   "metadata": {},
   "source": [
    "Essentially, we can picture Gradient Descent optimization as a hiker (the weight coefficient) who wants to climb down a mountain (cost function) into valley (cost minimum), and each step is determined by the steepness of the slope (gradient) and the leg length of the hiker (learning rate). Considering a cost function with only a single weight coefficient, we can illustrate this concept as follows:\n",
    "\n",
    "![](./gradient-optimization_files/ball.png)"
   ]
  },
  {
   "cell_type": "markdown",
   "metadata": {
    "collapsed": true
   },
   "source": [
    "### Stochastic Gradient Descent (SGD) "
   ]
  },
  {
   "cell_type": "markdown",
   "metadata": {},
   "source": [
    "In Gradient Descent optimization, we compute the cost gradient based on the complete training set; hence, we sometimes also call it *batch gradient descent*. In case of very large datasets, using Gradient Descent can be quite costly since we are only taking a single step for one pass over the training set -- thus, the larger the training set, the slower our algorithm updates the weights and the longer it may take until it converges to the global cost minimum (note that the SSE cost function is convex).\n"
   ]
  },
  {
   "cell_type": "markdown",
   "metadata": {},
   "source": [
    "In Stochastic Gradient Descent (sometimes also referred to as *iterative* or *on-line* gradient descent), we **don't** accumulate the weight updates as we've seen above for Gradient Descent:\n",
    "\n",
    "- for one or more epochs:\n",
    "    - for each weight $j$\n",
    "        - $w_j := w + \\Delta w_j$,   where:   $\\Delta w_j= \\eta \\sum_i (\\text{target}^{(i)} - \\text{output}^{(i)})x_{j}^{(i)}$"
   ]
  },
  {
   "cell_type": "markdown",
   "metadata": {},
   "source": [
    "Instead, we update the weights after each training sample:\n",
    "    \n",
    "- for one or more epochs, or until approx. cost minimum is reached:\n",
    "    - for training sample $i$:\n",
    "        - for each weight $j$\n",
    "            - $w_j := w + \\Delta w_j$,   where:   $\\Delta w_j= \\eta (\\text{target}^{(i)} - \\text{output}^{(i)})x_{j}^{(i)}$"
   ]
  },
  {
   "cell_type": "markdown",
   "metadata": {},
   "source": [
    "Here, the term \"stochastic\" comes from the fact that the gradient based on a single training sample is a \"stochastic approximation\" of the \"true\" cost gradient. Due to its stochastic nature, the path towards the global cost minimum is not \"direct\" as in Gradient Descent, but may go \"zig-zag\" if we are visuallizing the cost surface in a 2D space. However, it has been shown that Stochastic Gradient Descent almost surely converges to the global cost minimum if the cost function is convex (or pseudo-convex)[1]."
   ]
  },
  {
   "cell_type": "markdown",
   "metadata": {},
   "source": [
    "#### Stochastic Gradient Descent Shuffling"
   ]
  },
  {
   "cell_type": "markdown",
   "metadata": {},
   "source": [
    "There are several different flavors of stochastic gradient descent, which can be all seen throughout the literature. Let's take a look at the three most common variants:"
   ]
  },
  {
   "cell_type": "markdown",
   "metadata": {},
   "source": [
    "#### A)\n",
    "\n",
    "- randomly shuffle samples in the training set\n",
    "    - for one or more epochs, or until approx. cost minimum is reached\n",
    "        - for training sample *i*\n",
    "            - compute gradients and perform weight updates\n",
    "            \n",
    "#### B)\n",
    "\n",
    "- for one or more epochs, or until approx. cost minimum is reached\n",
    "    - randomly shuffle samples in the training set\n",
    "        - for training sample *i*\n",
    "            - compute gradients and perform weight updates\n",
    "            \n",
    "#### C)\n",
    "\n",
    "- for iterations *t*, or until approx. cost minimum is reached:\n",
    "    - draw random sample from the training set\n",
    "        - compute gradients and perform weight updates"
   ]
  },
  {
   "cell_type": "markdown",
   "metadata": {},
   "source": [
    "In scenario A [3], we shuffle the training set only one time in the beginning; whereas in scenario B, we shuffle the training set after each epoch to prevent repeating update cycles. In both scenario A and scenario B, each training sample is only used once per epoch to update the model weights.\n",
    "\n",
    "\n",
    "In scenario C, we draw the training samples randomly with replacement from the training set [2]. If the number of iterations *t* is equal to the number of training samples, we learn the model based on a *bootstrap sample* of the training set."
   ]
  },
  {
   "cell_type": "markdown",
   "metadata": {},
   "source": [
    "### Mini-Batch Gradient Descent (MB-GD)"
   ]
  },
  {
   "cell_type": "markdown",
   "metadata": {},
   "source": [
    "Mini-Batch Gradient Descent (MB-GD) a compromise between batch GD and SGD. In MB-GD, we update the model based on smaller groups of training samples; instead of computing the gradient from 1 sample (SGD) or all *n* training samples (GD), we compute the gradient from $1 < k < n$ training samples (a common mini-batch size is $k=50$).\n",
    "\n",
    "MB-GD converges in fewer iterations than GD because we update the weights more frequently; however, MB-GD let's us utilize vectorized operation, which typically results in a computational performance gain over SGD."
   ]
  },
  {
   "cell_type": "markdown",
   "metadata": {},
   "source": [
    "### Learning Rates\n",
    "\n",
    "- An adaptive learning rate $\\eta$: Choosing a decrease constant *d* that shrinks the learning rate over time:  $\\eta(t+1) := \\eta(t) / (1 + t \\times d)$\n",
    "\n",
    "\n",
    "- Momentum learning by adding a factor of the previous gradient to the weight update for faster updates: $\\Delta \\mathbf{w}_{t+1} := \\eta \\nabla J(\\mathbf{w}_{t+1}) + \\alpha \\Delta {w}_{t}$"
   ]
  },
  {
   "cell_type": "markdown",
   "metadata": {},
   "source": [
    "### References\n",
    "\n",
    "- [1] Bottou, Léon (1998). *\"Online Algorithms and Stochastic Approximations\"*. Online Learning and Neural Networks. Cambridge University Press. ISBN 978-0-521-65263-6\n",
    "- [2] Bottou, Léon. *\"Large-scale machine learning with stochastic gradient descent.\"* Proceedings of COMPSTAT'2010. Physica-Verlag HD, 2010. 177-186.\n",
    "- [3] Bottou, Léon. *\"Stochastic gradient descent tricks.\"* Neural Networks: Tricks of the Trade. Springer Berlin Heidelberg, 2012. 421-436."
   ]
  }
 ],
 "metadata": {
  "anaconda-cloud": {},
  "kernelspec": {
   "display_name": "Python 3",
   "language": "python",
   "name": "python3"
  },
  "language_info": {
   "codemirror_mode": {
    "name": "ipython",
    "version": 3
   },
   "file_extension": ".py",
   "mimetype": "text/x-python",
   "name": "python",
   "nbconvert_exporter": "python",
   "pygments_lexer": "ipython3",
   "version": "3.6.7"
  }
 },
 "nbformat": 4,
 "nbformat_minor": 1
}
