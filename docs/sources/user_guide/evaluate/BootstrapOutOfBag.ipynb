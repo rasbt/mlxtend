{
 "cells": [
  {
   "cell_type": "markdown",
   "metadata": {},
   "source": [
    "# BootstrapOutOfBag"
   ]
  },
  {
   "cell_type": "markdown",
   "metadata": {},
   "source": [
    "An implementation of the out-of-bag bootstrap to evaluate supervised learning algorithms."
   ]
  },
  {
   "cell_type": "markdown",
   "metadata": {},
   "source": [
    "> `from mlxtend.evaluate import BootstrapOutOfBag`    "
   ]
  },
  {
   "cell_type": "markdown",
   "metadata": {},
   "source": [
    "## Overview"
   ]
  },
  {
   "cell_type": "markdown",
   "metadata": {},
   "source": [
    "Originally, the bootstrap method aims to determine the statistical properties of an estimator when the underlying distribution was unknown and additional samples are not available. Now, in order to exploit this method for the evaluation of predictive models, such as hypotheses for classification and regression, we may prefer a slightly different approach to bootstrapping using the so-called Out-Of-Bag (OOB) or Leave-One-Out Bootstrap (LOOB) technique. Here, we use out-of-bag samples as test sets for evaluation instead of evaluating the model on the training data. Out-of-bag samples are the unique sets of instances that are not used for model fitting as shown in the figure below [1].\n",
    "\n",
    "![](BootstrapOutOfBag_files/bootstrap_concept.png)\n",
    "\n",
    "\n",
    "The figure above illustrates how three random bootstrap samples drawn from an exemplary ten-sample dataset ($X_1,X_2, ..., X_{10}$) and their out-of-bag sample for testing may look like. In practice, Bradley Efron and Robert Tibshirani recommend drawing 50 to 200 bootstrap samples as being sufficient for reliable estimates [2]."
   ]
  },
  {
   "cell_type": "markdown",
   "metadata": {},
   "source": [
    "### References\n",
    "\n",
    "- [1]  https://sebastianraschka.com/blog/2016/model-evaluation-selection-part2.html\n",
    "- [2] Efron, Bradley, and Robert J. Tibshirani. An introduction to the bootstrap. CRC press, 1994. Management of Data (ACM SIGMOD '97), pages 265-276, 1997."
   ]
  },
  {
   "cell_type": "markdown",
   "metadata": {},
   "source": [
    "## Example 1 -- Evaluating the predictive performance of a model"
   ]
  },
  {
   "cell_type": "markdown",
   "metadata": {},
   "source": [
    "The `BootstrapOutOfBag` class mimics the behavior of scikit-learn's cross-validation classes, e.g., `KFold`:"
   ]
  },
  {
   "cell_type": "code",
   "execution_count": 1,
   "metadata": {},
   "outputs": [
    {
     "name": "stdout",
     "output_type": "stream",
     "text": [
      "[4 2 1 3 3] [0]\n",
      "[2 4 1 2 1] [0 3]\n",
      "[4 3 3 4 1] [0 2]\n"
     ]
    }
   ],
   "source": [
    "from mlxtend.evaluate import BootstrapOutOfBag\n",
    "import numpy as np\n",
    "\n",
    "\n",
    "oob = BootstrapOutOfBag(n_splits=3)\n",
    "for train, test in oob.split(np.array([1, 2, 3, 4, 5])):\n",
    "    print(train, test)"
   ]
  },
  {
   "cell_type": "markdown",
   "metadata": {},
   "source": [
    "Consequently, we can use `BootstrapOutOfBag` objects via the `cross_val_score` method:"
   ]
  },
  {
   "cell_type": "code",
   "execution_count": 2,
   "metadata": {},
   "outputs": [
    {
     "name": "stdout",
     "output_type": "stream",
     "text": [
      "[ 0.96078431  0.92156863  0.95833333]\n"
     ]
    }
   ],
   "source": [
    "from sklearn.datasets import load_iris\n",
    "from sklearn.linear_model import LogisticRegression\n",
    "from sklearn.model_selection import cross_val_score\n",
    "\n",
    "iris = load_iris()\n",
    "X = iris.data\n",
    "y = iris.target\n",
    "lr = LogisticRegression()\n",
    "\n",
    "print(cross_val_score(lr, X, y))"
   ]
  },
  {
   "cell_type": "code",
   "execution_count": 3,
   "metadata": {},
   "outputs": [
    {
     "name": "stdout",
     "output_type": "stream",
     "text": [
      "[ 0.92727273  0.96226415  0.94444444]\n"
     ]
    }
   ],
   "source": [
    "print(cross_val_score(lr, X, y, cv=BootstrapOutOfBag(n_splits=3, random_seed=456)))"
   ]
  },
  {
   "cell_type": "markdown",
   "metadata": {},
   "source": [
    "In practice, it is recommended to run at least 200 iterations, though:"
   ]
  },
  {
   "cell_type": "code",
   "execution_count": 4,
   "metadata": {},
   "outputs": [
    {
     "name": "stdout",
     "output_type": "stream",
     "text": [
      "Mean accuracy: 94.8%\n"
     ]
    }
   ],
   "source": [
    "print('Mean accuracy: %.1f%%' % np.mean(100*cross_val_score(\n",
    "    lr, X, y, cv=BootstrapOutOfBag(n_splits=200, random_seed=456))))"
   ]
  },
  {
   "cell_type": "markdown",
   "metadata": {},
   "source": [
    "Using the bootstrap, we can use the percentile method to compute the confidence bounds of the performance estimate. We pick our lower and upper confidence bounds as follows:\n",
    "\n",
    "- $ACC_{lower}$ = $\\alpha_1th$ percentile of the $ACC_{boot}$ distribution\n",
    "- $ACC_{lower}$ = $\\alpha_2th$ percentile of the $ACC_{boot}$ distribution\n",
    "\n",
    "where $\\alpha_1 = \\alpha$ and $\\alpha_2 = 1-\\alpha$, and the degree of confidence to compute the $100 \\times (1-2 \\times \\alpha)$ confidence interval. For instance, to compute a 95% confidence interval, we pick $\\alpha=0.025$ to obtain the 2.5th and 97.5th percentiles of the *b* bootstrap samples distribution as the upper and lower confidence bounds."
   ]
  },
  {
   "cell_type": "code",
   "execution_count": 5,
   "metadata": {
    "collapsed": true
   },
   "outputs": [],
   "source": [
    "import matplotlib.pyplot as plt\n",
    "%matplotlib inline"
   ]
  },
  {
   "cell_type": "code",
   "execution_count": 6,
   "metadata": {},
   "outputs": [
    {
     "data": {
      "image/png": "[encoded data removed]",
      "text/plain": [
       "<matplotlib.figure.Figure at 0x10ba42e80>"
      ]
     },
     "metadata": {},
     "output_type": "display_data"
    }
   ],
   "source": [
    "accuracies = cross_val_score(lr, X, y, cv=BootstrapOutOfBag(n_splits=1000, random_seed=456))\n",
    "mean = np.mean(accuracies)\n",
    "\n",
    "lower = np.percentile(accuracies, 2.5)\n",
    "upper = np.percentile(accuracies, 97.5)\n",
    "\n",
    "fig, ax = plt.subplots(figsize=(8, 4))\n",
    "ax.vlines(mean, [0], 40, lw=2.5, linestyle='-', label='mean')\n",
    "ax.vlines(lower, [0], 15, lw=2.5, linestyle='-.', label='CI95 percentile')\n",
    "ax.vlines(upper, [0], 15, lw=2.5, linestyle='-.')\n",
    "\n",
    "ax.hist(accuracies, bins=11,\n",
    "        color='#0080ff', edgecolor=\"none\", \n",
    "        alpha=0.3)\n",
    "plt.legend(loc='upper left')\n",
    "\n",
    "\n",
    "\n",
    "plt.show()"
   ]
  },
  {
   "cell_type": "markdown",
   "metadata": {},
   "source": [
    "## API"
   ]
  },
  {
   "cell_type": "code",
   "execution_count": 7,
   "metadata": {},
   "outputs": [
    {
     "name": "stdout",
     "output_type": "stream",
     "text": [
      "## BootstrapOutOfBag\n",
      "\n",
      "*BootstrapOutOfBag(n_splits=200, random_seed=None)*\n",
      "\n",
      "**Parameters**\n",
      "\n",
      "\n",
      "- `n_splits` : int (default=200)\n",
      "\n",
      "    Number of bootstrap iterations.\n",
      "    Must be larger than 1.\n",
      "\n",
      "\n",
      "- `random_seed` : int (default=None)\n",
      "\n",
      "    If int, random_seed is the seed used by\n",
      "    the random number generator.\n",
      "\n",
      "\n",
      "**Returns**\n",
      "\n",
      "- `train_idx` : ndarray\n",
      "\n",
      "    The training set indices for that split.\n",
      "\n",
      "\n",
      "- `test_idx` : ndarray\n",
      "\n",
      "    The testing set indices for that split.\n",
      "\n",
      "\n",
      "**Examples**\n",
      "\n",
      ">>> raise ValueError('test')\n",
      "\n",
      "### Methods\n",
      "\n",
      "<hr>\n",
      "\n",
      "*get_n_splits(X=None, y=None, groups=None)*\n",
      "\n",
      "Returns the number of splitting iterations in the cross-validator\n",
      "\n",
      "**Parameters**\n",
      "\n",
      "- `X` : object\n",
      "\n",
      "    Always ignored, exists for compatibility with scikit-learn.\n",
      "\n",
      "\n",
      "- `y` : object\n",
      "\n",
      "    Always ignored, exists for compatibility with scikit-learn.\n",
      "\n",
      "\n",
      "- `groups` : object\n",
      "\n",
      "    Always ignored, exists for compatibility with scikit-learn.\n",
      "\n",
      "**Returns**\n",
      "\n",
      "\n",
      "- `n_splits` : int\n",
      "\n",
      "    Returns the number of splitting iterations in the cross-validator.\n",
      "\n",
      "<hr>\n",
      "\n",
      "*split(X, y=None, groups=None)*\n",
      "\n",
      "y : array-like or None (default: None)\n",
      "Argument is not used and only included as parameter\n",
      "for compatibility, similar to `KFold` in scikit-learn.\n",
      "\n",
      "\n",
      "- `groups` : array-like or None (default: None)\n",
      "\n",
      "    Argument is not used and only included as parameter\n",
      "    for compatibility, similar to `KFold` in scikit-learn.\n",
      "\n",
      "\n"
     ]
    }
   ],
   "source": [
    "with open('../../api_modules/mlxtend.evaluate/BootstrapOutOfBag.md', 'r') as f:\n",
    "    s = f.read() \n",
    "print(s)"
   ]
  }
 ],
 "metadata": {
  "anaconda-cloud": {},
  "kernelspec": {
   "display_name": "Python 3",
   "language": "python",
   "name": "python3"
  },
  "language_info": {
   "codemirror_mode": {
    "name": "ipython",
    "version": 3
   },
   "file_extension": ".py",
   "mimetype": "text/x-python",
   "name": "python",
   "nbconvert_exporter": "python",
   "pygments_lexer": "ipython3",
   "version": "3.6.1"
  }
 },
 "nbformat": 4,
 "nbformat_minor": 1
}
