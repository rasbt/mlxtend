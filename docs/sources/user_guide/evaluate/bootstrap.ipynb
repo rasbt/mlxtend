{
 "cells": [
  {
   "cell_type": "markdown",
   "metadata": {},
   "source": [
    "# Bootstrap"
   ]
  },
  {
   "cell_type": "markdown",
   "metadata": {},
   "source": [
    "An implementation of the ordinary nonparametric bootstrap to bootstrap a single statistic (for example, the mean. median, R^2 of a regression fit, and so forth)."
   ]
  },
  {
   "cell_type": "markdown",
   "metadata": {},
   "source": [
    "> `from mlxtend.evaluate import bootstrap`    "
   ]
  },
  {
   "cell_type": "markdown",
   "metadata": {},
   "source": [
    "## Overview"
   ]
  },
  {
   "cell_type": "markdown",
   "metadata": {},
   "source": [
    "The bootstrap offers an easy and effective way to estimate the distribution of a statistic via simulation, by drawing (or generating) new samples from an existing sample with replacement. Note that the bootstrap does not require making any assumptions about the sample statistic or dataset being normally distributed.\n",
    "\n",
    "Using the bootstrap, we can estimate sample statistics and compute the standard error of the mean and confidence intervals as if we have drawn a number of samples from an infinite population. In a nutshell, the bootstrap procedure can be described as follows:\n",
    "\n",
    "1. Draw a sample with replacement\n",
    "2. Compute the sample statistic\n",
    "3. Repeat step 1-2 n times\n",
    "4. Compute the standard deviation (standard error of the mean of the statistic)\n",
    "5. Compute the confidence interval\n",
    "\n",
    "Or, in simple terms, we can interpret the bootstrap a means of drawing a potentially endless number of (new) samples from a population by resampling the original dataset. \n",
    "\n",
    "Note that the term \"bootstrap replicate\" is being used quite loosely in current literature; many researchers and practitioners use it to define the number of bootstrap samples we draw from the original dataset. However, in the context of this documentation and the code annotation, we use the original definition of bootstrap repliactes and use it to refer to the statistic computed from a bootstrap sample."
   ]
  },
  {
   "cell_type": "markdown",
   "metadata": {},
   "source": [
    "### References\n",
    "\n",
    "- [1]  Efron, Bradley, and Robert J. Tibshirani. An introduction to the bootstrap. CRC press, 1994. Management of Data (ACM SIGMOD '97), pages 265-276, 1997."
   ]
  },
  {
   "cell_type": "markdown",
   "metadata": {},
   "source": [
    "## Example 1 -- Bootstrapping the Mean"
   ]
  },
  {
   "cell_type": "markdown",
   "metadata": {},
   "source": [
    "This simple example illustrates how you could bootstrap the mean of a sample."
   ]
  },
  {
   "cell_type": "code",
   "execution_count": 1,
   "metadata": {},
   "outputs": [
    {
     "name": "stdout",
     "output_type": "stream",
     "text": [
      "Mean: 5.03, SE: +/- 0.11, CI95: [4.80, 5.26]\n"
     ]
    }
   ],
   "source": [
    "import numpy as np\n",
    "from mlxtend.evaluate import bootstrap\n",
    "\n",
    "\n",
    "rng = np.random.RandomState(123)\n",
    "x = rng.normal(loc=5., size=100)\n",
    "original, std_err, ci_bounds = bootstrap(x, num_rounds=1000, func=np.mean, ci=0.95, seed=123)\n",
    "print('Mean: %.2f, SE: +/- %.2f, CI95: [%.2f, %.2f]' % (original, \n",
    "                                                             std_err, \n",
    "                                                             ci_bounds[0],\n",
    "                                                             ci_bounds[1]))"
   ]
  },
  {
   "cell_type": "markdown",
   "metadata": {},
   "source": [
    "## Example 2 - Bootstrapping a Regression Fit"
   ]
  },
  {
   "cell_type": "markdown",
   "metadata": {},
   "source": [
    "This example illustrates how you can bootstrap the $R^2$ of a regression fit on the training data."
   ]
  },
  {
   "cell_type": "code",
   "execution_count": 2,
   "metadata": {},
   "outputs": [
    {
     "name": "stdout",
     "output_type": "stream",
     "text": [
      "Mean: 0.90, SE: +/- 0.01, CI95: [0.89, 0.92]\n"
     ]
    }
   ],
   "source": [
    "from mlxtend.data import autompg_data\n",
    "\n",
    "from sklearn.linear_model import LinearRegression\n",
    "from sklearn.metrics import r2_score\n",
    "\n",
    "X, y = autompg_data()\n",
    "\n",
    "\n",
    "lr = LinearRegression()\n",
    "\n",
    "def r2_fit(X, model=lr):\n",
    "    x, y = X[:, 0].reshape(-1, 1), X[:, 1]\n",
    "    pred = lr.fit(x, y).predict(x)\n",
    "    return r2_score(y, pred)\n",
    "    \n",
    "    \n",
    "original, std_err, ci_bounds = bootstrap(X, num_rounds=1000,\n",
    "                                         func=r2_fit,\n",
    "                                         ci=0.95,\n",
    "                                         seed=123)\n",
    "print('Mean: %.2f, SE: +/- %.2f, CI95: [%.2f, %.2f]' % (original, \n",
    "                                                             std_err, \n",
    "                                                             ci_bounds[0],\n",
    "                                                             ci_bounds[1]))"
   ]
  },
  {
   "cell_type": "markdown",
   "metadata": {},
   "source": [
    "## API"
   ]
  },
  {
   "cell_type": "code",
   "execution_count": 3,
   "metadata": {},
   "outputs": [
    {
     "name": "stdout",
     "output_type": "stream",
     "text": [
      "## bootstrap\n",
      "\n",
      "*bootstrap(x, func, num_rounds=1000, ci=0.95, ddof=1, seed=None)*\n",
      "\n",
      "Implements the ordinary nonparametric bootstrap\n",
      "\n",
      "**Parameters**\n",
      "\n",
      "\n",
      "- `x` : NumPy array, shape=(n_samples, [n_columns])\n",
      "\n",
      "    An one or multidimensional array of data records\n",
      "\n",
      "\n",
      "- `func` : <func>\n",
      "\n",
      "    A function which computes a statistic that is used\n",
      "    to compute the bootstrap replicates (the statistic computed\n",
      "    from the bootstrap samples). This function must return a\n",
      "    scalar value. For example, `np.mean` or `np.median` would be\n",
      "    an acceptable argument for `func` if `x` is a 1-dimensional array\n",
      "    or vector.\n",
      "\n",
      "\n",
      "- `num_rounds` : int (default=1000)\n",
      "\n",
      "    The number of bootstrap samnples to draw where each\n",
      "    bootstrap sample has the same number of records as the\n",
      "    original dataset.\n",
      "\n",
      "\n",
      "- `ci` : int (default=0.95)\n",
      "\n",
      "    An integer in the range (0, 1) that represents the\n",
      "    confidence level for computing the confidence interval.\n",
      "    For example, `ci=0.95` (default)\n",
      "    will compute the 95% confidence\n",
      "    interval from the bootstrap replicates.\n",
      "\n",
      "\n",
      "- `ddof` : int\n",
      "\n",
      "    The delta degrees of freedom used when computing the\n",
      "    standard error.\n",
      "\n",
      "\n",
      "- `seed` : int or None (default=None)\n",
      "\n",
      "    Random seed for generating bootstrap samples.\n",
      "\n",
      "**Returns**\n",
      "\n",
      "    original, standard_error, (lower_ci, upper_ci)\n",
      "    Returns the statistic of the original sample (`original`),\n",
      "    the standard error of the estimate, and the\n",
      "    respective confidence interval bounds.\n",
      "\n",
      "**Examples**\n",
      "\n",
      "    >>> from mlxtend.evaluate import bootstrap\n",
      "    >>> rng = np.random.RandomState(123)\n",
      "    >>> x = rng.normal(loc=5., size=100)\n",
      "    >>> original, std_err, ci_bounds = bootstrap(x,\n",
      "    ...                                          num_rounds=1000,\n",
      "    ...                                          func=np.mean,\n",
      "    ...                                          ci=0.95,\n",
      "    ...                                          seed=123)\n",
      "    >>> print('Mean: %.2f, SE: +/- %.2f, CI95: [%.2f, %.2f]' % (original,\n",
      "    ...                                                         std_err,\n",
      "    ...                                                         ci_bounds[0],\n",
      "    ...                                                         ci_bounds[1]))\n",
      "    Mean: 5.03, SE: +/- 0.11, CI95: [4.80, 5.26]\n",
      "    >>>\n",
      "\n",
      "\n"
     ]
    }
   ],
   "source": [
    "with open('../../api_modules/mlxtend.evaluate/bootstrap.md', 'r') as f:\n",
    "    s = f.read() \n",
    "print(s)"
   ]
  }
 ],
 "metadata": {
  "anaconda-cloud": {},
  "kernelspec": {
   "display_name": "Python 3",
   "language": "python",
   "name": "python3"
  },
  "language_info": {
   "codemirror_mode": {
    "name": "ipython",
    "version": 3
   },
   "file_extension": ".py",
   "mimetype": "text/x-python",
   "name": "python",
   "nbconvert_exporter": "python",
   "pygments_lexer": "ipython3",
   "version": "3.6.3"
  }
 },
 "nbformat": 4,
 "nbformat_minor": 1
}
