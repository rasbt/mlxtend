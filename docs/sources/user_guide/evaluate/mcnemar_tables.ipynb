{
 "cells": [
  {
   "cell_type": "code",
   "execution_count": 1,
   "metadata": {},
   "outputs": [],
   "source": [
    "%matplotlib inline"
   ]
  },
  {
   "cell_type": "markdown",
   "metadata": {},
   "source": [
    "# Contigency Tables for McNemar's Test and Cochran's Q Test"
   ]
  },
  {
   "cell_type": "markdown",
   "metadata": {},
   "source": [
    "Function to compute a 2x2 contingency tables for McNemar's Test and Cochran's Q Test"
   ]
  },
  {
   "cell_type": "markdown",
   "metadata": {},
   "source": [
    "> `from mlxtend.evaluate import mcnemar_tables`    "
   ]
  },
  {
   "cell_type": "markdown",
   "metadata": {},
   "source": [
    "## Overview"
   ]
  },
  {
   "cell_type": "markdown",
   "metadata": {},
   "source": [
    "###  Contigency Tables"
   ]
  },
  {
   "cell_type": "markdown",
   "metadata": {},
   "source": [
    "A 2x2 contigency table as being used in a McNemar's Test ([`mlxtend.evaluate.mcnemar`](mcnemar.md)) is a useful aid for comparing two different models. In contrast to a typical confusion matrix, this table compares two models to each other rather than showing the false positives, true positives, false negatives, and true negatives of a single model's predictions:"
   ]
  },
  {
   "cell_type": "markdown",
   "metadata": {},
   "source": [
    "![](./mcnemar_table_files/mcnemar_contingency_table.png)"
   ]
  },
  {
   "cell_type": "markdown",
   "metadata": {},
   "source": [
    "For instance, given that 2 models have a accuracy of with a 99.7% and 99.6% a 2x2 contigency table can provide further insights for model selection.\n",
    "\n",
    "\n",
    "![](./mcnemar_table_files/mcnemar_contingency_table_ex1.png)\n",
    "\n",
    "In both subfigure A and B, the predictive accuracies of the two models are as follows:\n",
    "\n",
    "- model 1 accuracy: 9,960 / 10,000 = 99.6%\n",
    "- model 2 accuracy: 9,970 / 10,000 = 99.7%\n",
    "\n",
    "Now, in subfigure A, we can see that model 2 got 11 predictions right that model 1 got wrong. Vice versa, model 2 got 1 prediction right that model 2 got wrong. Thus, based on this 11:1 ratio, we may conclude that model 2 performs substantially better than model 1. However, in subfigure B, the ratio is 25:15, which is less conclusive about which model is the better one to choose."
   ]
  },
  {
   "cell_type": "markdown",
   "metadata": {},
   "source": [
    "### References\n",
    "\n",
    "- McNemar, Quinn, 1947. \"[Note on the sampling error of the difference between correlated proportions or percentages](http://link.springer.com/article/10.1007%2FBF02295996)\". Psychometrika. 12 (2): 153–157.\n",
    "- Edwards AL: Note on the “correction for continuity” in testing the significance of the difference between correlated proportions. Psychometrika. 1948, 13 (3): 185-187. 10.1007/BF02289261.\n",
    "- https://en.wikipedia.org/wiki/McNemar%27s_test\n"
   ]
  },
  {
   "cell_type": "markdown",
   "metadata": {},
   "source": [
    "## Example 1 - Single 2x2 Contigency Table"
   ]
  },
  {
   "cell_type": "code",
   "execution_count": 2,
   "metadata": {},
   "outputs": [
    {
     "data": {
      "text/plain": [
       "{'model_0 vs model_1': array([[ 4.,  1.],\n",
       "        [ 2.,  3.]])}"
      ]
     },
     "execution_count": 2,
     "metadata": {},
     "output_type": "execute_result"
    }
   ],
   "source": [
    "import numpy as np\n",
    "from mlxtend.evaluate import mcnemar_tables\n",
    "\n",
    "y_true = np.array([0, 0, 0, 0, 0, 1, 1, 1, 1, 1])\n",
    "\n",
    "y_mod0 = np.array([0, 1, 0, 0, 0, 1, 1, 0, 0, 0])\n",
    "y_mod1 = np.array([0, 0, 1, 1, 0, 1, 1, 0, 0, 0])\n",
    "\n",
    "tb = mcnemar_tables(y_true, \n",
    "                    y_mod0, \n",
    "                    y_mod1)\n",
    "\n",
    "tb"
   ]
  },
  {
   "cell_type": "markdown",
   "metadata": {},
   "source": [
    "To visualize (and better interpret) the contigency table via matplotlib, we can use the `checkerboard_plot` function:"
   ]
  },
  {
   "cell_type": "code",
   "execution_count": 3,
   "metadata": {},
   "outputs": [
    {
     "data": {
      "image/png": "[encoded data removed]",
      "text/plain": [
       "<matplotlib.figure.Figure at 0x10c56acc0>"
      ]
     },
     "metadata": {},
     "output_type": "display_data"
    }
   ],
   "source": [
    "from mlxtend.plotting import checkerboard_plot\n",
    "import matplotlib.pyplot as plt\n",
    "\n",
    "brd = checkerboard_plot(tb['model_0 vs model_1'],\n",
    "                        figsize=(3, 3),\n",
    "                        fmt='%d',\n",
    "                        col_labels=['model 2 wrong', 'model 2 right'],\n",
    "                        row_labels=['model 1 wrong', 'model 1 right'])\n",
    "plt.show()"
   ]
  },
  {
   "cell_type": "markdown",
   "metadata": {},
   "source": [
    "## Example 2 - Multiple 2x2 Contigency Tables"
   ]
  },
  {
   "cell_type": "markdown",
   "metadata": {},
   "source": [
    "If more than two models are provided as input to the `mcnemar_tables` function, a 2x2 contingency table will be created for each pair of models:"
   ]
  },
  {
   "cell_type": "code",
   "execution_count": 4,
   "metadata": {},
   "outputs": [
    {
     "name": "stdout",
     "output_type": "stream",
     "text": [
      "model_0 vs model_1 \n",
      " [[ 4.  1.]\n",
      " [ 2.  3.]] \n",
      "\n",
      "model_0 vs model_2 \n",
      " [[ 4.  2.]\n",
      " [ 2.  2.]] \n",
      "\n",
      "model_1 vs model_2 \n",
      " [[ 5.  1.]\n",
      " [ 0.  4.]] \n",
      "\n"
     ]
    }
   ],
   "source": [
    "import numpy as np\n",
    "from mlxtend.evaluate import mcnemar_tables\n",
    "\n",
    "y_true = np.array([0, 0, 0, 0, 0, 1, 1, 1, 1, 1])\n",
    "\n",
    "y_mod0 = np.array([0, 1, 0, 0, 0, 1, 1, 0, 0, 0])\n",
    "y_mod1 = np.array([0, 0, 1, 1, 0, 1, 1, 0, 0, 0])\n",
    "y_mod2 = np.array([0, 0, 1, 1, 0, 1, 1, 0, 1, 0])\n",
    "\n",
    "tb = mcnemar_tables(y_true, \n",
    "                    y_mod0, \n",
    "                    y_mod1,\n",
    "                    y_mod2)\n",
    "\n",
    "for key, value in tb.items():\n",
    "    print(key, '\\n', value, '\\n')"
   ]
  },
  {
   "cell_type": "markdown",
   "metadata": {},
   "source": [
    "## API"
   ]
  },
  {
   "cell_type": "code",
   "execution_count": 5,
   "metadata": {},
   "outputs": [
    {
     "name": "stdout",
     "output_type": "stream",
     "text": [
      "## mcnemar_tables\n",
      "\n",
      "*mcnemar_tables(y_target, *y_model_predictions)*\n",
      "\n",
      "Compute multiple 2x2 contigency tables for McNemar's\n",
      "test or Cochran's Q test.\n",
      "\n",
      "**Parameters**\n",
      "\n",
      "- `y_target` : array-like, shape=[n_samples]\n",
      "\n",
      "    True class labels as 1D NumPy array.\n",
      "\n",
      "\n",
      "- `y_model_predictions` : array-like, shape=[n_samples]\n",
      "\n",
      "    Predicted class labels for a model.\n",
      "\n",
      "**Returns**\n",
      "\n",
      "\n",
      "- `tables` : dict\n",
      "\n",
      "    Dictionary of NumPy arrays with shape=[2, 2]. Each dictionary\n",
      "    key names the two models to be compared based on the order the\n",
      "    models were passed as `*y_model_predictions`. The number of\n",
      "    dictionary entries is equal to the number of pairwise combinations\n",
      "    between the m models, i.e., \"m choose 2.\"\n",
      "\n",
      "    For example the following target array (containing the true labels)\n",
      "    and 3 models\n",
      "\n",
      "    - y_true = np.array([0, 0, 0, 0, 0, 1, 1, 1, 1, 1])\n",
      "    - y_mod0 = np.array([0, 1, 0, 0, 0, 1, 1, 0, 0, 0])\n",
      "    - y_mod0 = np.array([0, 0, 1, 1, 0, 1, 1, 0, 0, 0])\n",
      "    - y_mod0 = np.array([0, 1, 1, 1, 0, 1, 0, 0, 0, 0])\n",
      "\n",
      "    would result in the following dictionary:\n",
      "\n",
      "\n",
      "    {'model_0 vs model_1': array([[ 4.,  1.],\n",
      "    [ 2.,  3.]]),\n",
      "    'model_0 vs model_2': array([[ 3.,  0.],\n",
      "    [ 3.,  4.]]),\n",
      "    'model_1 vs model_2': array([[ 3.,  0.],\n",
      "    [ 2.,  5.]])}\n",
      "\n",
      "    Each array is structured in the following way:\n",
      "\n",
      "    - tb[0, 0]: # of samples that both models predicted correctly\n",
      "    - tb[0, 1]: # of samples that model a got right and model b got wrong\n",
      "    - tb[1, 0]: # of samples that model b got right and model a got wrong\n",
      "    - tb[1, 1]: # of samples that both models predicted incorrectly\n",
      "\n",
      "\n"
     ]
    }
   ],
   "source": [
    "with open('../../api_modules/mlxtend.evaluate/mcnemar_tables.md', 'r') as f:\n",
    "    s = f.read() \n",
    "print(s)"
   ]
  }
 ],
 "metadata": {
  "anaconda-cloud": {},
  "kernelspec": {
   "display_name": "Python 3",
   "language": "python",
   "name": "python3"
  },
  "language_info": {
   "codemirror_mode": {
    "name": "ipython",
    "version": 3
   },
   "file_extension": ".py",
   "mimetype": "text/x-python",
   "name": "python",
   "nbconvert_exporter": "python",
   "pygments_lexer": "ipython3",
   "version": "3.6.3"
  }
 },
 "nbformat": 4,
 "nbformat_minor": 1
}
