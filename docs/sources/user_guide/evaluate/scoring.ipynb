{
 "cells": [
  {
   "cell_type": "code",
   "execution_count": 1,
   "metadata": {
    "collapsed": true
   },
   "outputs": [],
   "source": [
    "%matplotlib inline"
   ]
  },
  {
   "cell_type": "markdown",
   "metadata": {},
   "source": [
    "# Scoring"
   ]
  },
  {
   "cell_type": "markdown",
   "metadata": {},
   "source": [
    "A function for computing various different performance metrics."
   ]
  },
  {
   "cell_type": "markdown",
   "metadata": {},
   "source": [
    "> from mlxtend.evaluate import scoring"
   ]
  },
  {
   "cell_type": "markdown",
   "metadata": {},
   "source": [
    "## Overview"
   ]
  },
  {
   "cell_type": "markdown",
   "metadata": {},
   "source": [
    "### Confusion Matrix"
   ]
  },
  {
   "cell_type": "markdown",
   "metadata": {},
   "source": [
    "The *confusion matrix* (or *error matrix*) is one way to summarize the performance of a classifier for binary classification tasks. This square matrix consists of columns and rows that list the number of instances as absolute or relative \"actual class\" vs. \"predicted class\" ratios.\n",
    "\n",
    "\n",
    "Let $P$ be the label of class 1 and $N$ be the label of a second class or the label of all classes that are *not class 1* in a multi-class setting."
   ]
  },
  {
   "cell_type": "markdown",
   "metadata": {},
   "source": [
    "![](./confusion_matrix_files/confusion_matrix_1.png)"
   ]
  },
  {
   "cell_type": "markdown",
   "metadata": {},
   "source": [
    "### Error and Accuracy"
   ]
  },
  {
   "cell_type": "markdown",
   "metadata": {},
   "source": [
    "Both the prediction *error* (ERR) and *accuracy* (ACC) provide general information about how many samples are misclassified. The *error* can be understood as the sum of all false predictions divided by the number of total predications, and the the accuracy is calculated as the sum of correct predictions divided by the total number of predictions, respectively. \n",
    "\n",
    "$$ERR = \\frac{FP + FN}{FP+ FN + TP + TN} = 1-ACC$$\n",
    "\n",
    "$$ACC = \\frac{TP + TN}{FP+ FN + TP + TN} = 1-ERR$$"
   ]
  },
  {
   "cell_type": "markdown",
   "metadata": {},
   "source": [
    "### True and False Positive Rates"
   ]
  },
  {
   "cell_type": "markdown",
   "metadata": {},
   "source": [
    "The *True Positive Rate* (TPR) and *False Positive Rate* (FPR) are performance metrics that are especially useful for imbalanced class problems. In *spam classification*, for example, we are of course primarily interested in the detection and filtering out of *spam*. However, it is also important to decrease the number of messages that were incorrectly classified as *spam* (*False Positives*): A situation where a person misses an important message is considered as \"worse\" than a situation where a person ends up with a few *spam* messages in his e-mail inbox. In contrast to the *FPR*, the *True Positive Rate* provides useful information about the fraction of *positive* (or *relevant*) samples that were correctly identified out of the total pool of *Positives*.\n",
    "\n",
    "$$FPR = \\frac{FP}{N} =  \\frac{FP}{FP + TN}$$\n",
    "\n",
    "$$TPR = \\frac{TP}{P} =  \\frac{TP}{FN + TP}$$"
   ]
  },
  {
   "cell_type": "markdown",
   "metadata": {},
   "source": [
    "### Precision, Recall, and the F1-Score"
   ]
  },
  {
   "cell_type": "markdown",
   "metadata": {},
   "source": [
    "*Precision* (PRE) and *Recall* (REC) are metrics that are more commonly used in *Information Technology* and related to the *False* and *True Prositive Rates*. In fact, *Recall* is synonymous to the *True Positive Rate* and also sometimes called *Sensitivity*. The F$_1$-Score can be understood as a combination of both *Precision* and *Recall*."
   ]
  },
  {
   "cell_type": "markdown",
   "metadata": {},
   "source": [
    "$$PRE = \\frac{TP}{TP + FP}$$\n",
    "\n",
    "$$REC = TPR = \\frac{TP}{P} =  \\frac{TP}{FN + TP}$$\n",
    "\n",
    "$$F_1 = 2 \\cdot \\frac{PRE \\cdot REC}{PRE + REC}$$"
   ]
  },
  {
   "cell_type": "markdown",
   "metadata": {},
   "source": [
    "### Sensitivity and Specificity"
   ]
  },
  {
   "cell_type": "markdown",
   "metadata": {},
   "source": [
    "*Sensitivity* (SEN) is synonymous to *Recall* and the *True Positive Rate* whereas *Specificity (SPC)* is synonymous to the *True Negative Rate* -- *Sensitivity* measures the recovery rate of the *Positives* and complimentary, the *Specificity* measures the recovery rate of the *Negatives*.\n",
    "\n",
    "$$SEN = TPR = REC = \\frac{TP}{P} =  \\frac{TP}{FN + TP}$$\n",
    "\n",
    "$$SPC = TNR =\\frac{TN}{N} =  \\frac{TN}{FP + TN}$$"
   ]
  },
  {
   "cell_type": "markdown",
   "metadata": {},
   "source": [
    "### Matthews Correlation Coefficient"
   ]
  },
  {
   "cell_type": "markdown",
   "metadata": {},
   "source": [
    "*Matthews correlation coefficient* (MCC) was first formulated by Brian W. Matthews [3] in 1975 to assess the performance of protein secondary structure predictions. The MCC can be understood as a specific case of a linear correlation coefficient (*Pearson's R*) for a binary classification setting and is considered as especially useful in unbalanced class settings.\n",
    "The previous metrics take values in the range between 0 (worst) and 1 (best), whereas the MCC is bounded between the range 1 (perfect correlation between ground truth and predicted outcome) and -1 (inverse or negative correlation) -- a value of 0 denotes a random prediction. \n",
    "\n",
    "$$MCC = \\frac{ TP \\times TN - FP \\times FN } {\\sqrt{ (TP + FP) ( TP + FN ) ( TN + FP ) ( TN + FN ) } }$$"
   ]
  },
  {
   "cell_type": "markdown",
   "metadata": {},
   "source": [
    "### Average Per-Class Accuracy"
   ]
  },
  {
   "cell_type": "markdown",
   "metadata": {},
   "source": [
    "The \"overall\" accuracy is defined as the number of correct predictions (*true positives* TP and *true negatives* TN) over all samples *n*:\n",
    "\n",
    "$$ACC = \\frac{TP + TN}{n}$$\n",
    "\n",
    "in a binary class setting:\n",
    "\n",
    "![](./scoring_files/conf_mat_binary-1.png)"
   ]
  },
  {
   "cell_type": "markdown",
   "metadata": {},
   "source": [
    "In a multi-class setting, we can generalize the computation of the accuracy as the fraction of all true predictions (the diagonal) over all samples n.\n",
    "\n",
    "$$ACC = \\frac{T}{n}$$\n",
    "\n",
    "Considering a multi-class problem with 3 classes (C0, C1, C2)\n",
    "\n",
    "![](./scoring_files/conf_mat_multi-1.png)\n",
    "\n",
    "let's assume our model made the following predictions:\n",
    "\n",
    "![](./scoring_files/multi-ex-1.png)"
   ]
  },
  {
   "cell_type": "markdown",
   "metadata": {},
   "source": [
    "We compute the accuracy as:\n",
    "    \n",
    "$$ACC = \\frac{3 + 50 + 18}{90} \\approx 0.79$$"
   ]
  },
  {
   "cell_type": "markdown",
   "metadata": {},
   "source": [
    "Now, in order to compute the ***average per-class accuracy***, we compute the binary accuracy for each class label separately; i.e., if class 1 is the positive class, class 0 and 2 are both considered the negative class.\n",
    "\n",
    "$$APC\\;ACC = \\frac{83/90 + 71/90 + 78/90}{3} \\approx 0.86$$"
   ]
  },
  {
   "cell_type": "markdown",
   "metadata": {},
   "source": [
    "### References\n",
    "\n",
    "- [1] S. Raschka. [An overview of general performance metrics of binary classifier systems](http://arxiv.org/abs/1410.5330). Computing Research Repository (CoRR), abs/1410.5330, 2014.\n",
    "- [2] Cyril Goutte and Eric Gaussier. [A probabilistic interpretation of precision, recall and f-score, with implication for evaluation](http://link.springer.com/chapter/10.1007/978-3-540-31865-1_25). In Advances in Information Retrieval, pages 345–359. Springer, 2005.\n",
    "- [3] Brian W Matthews. [Comparison of the predicted and observed secondary structure of T4 phage lysozyme](http://www.sciencedirect.com/science/article/pii/0005279575901099). Biochimica et Biophysica Acta (BBA)- Protein Structure, 405(2):442–451, 1975."
   ]
  },
  {
   "cell_type": "markdown",
   "metadata": {},
   "source": [
    "## Example 1 - Classification Error"
   ]
  },
  {
   "cell_type": "code",
   "execution_count": 2,
   "metadata": {},
   "outputs": [
    {
     "name": "stdout",
     "output_type": "stream",
     "text": [
      "Error: 25.0%\n"
     ]
    }
   ],
   "source": [
    "from mlxtend.evaluate import scoring\n",
    "\n",
    "y_targ = [1, 1, 1, 0, 0, 2, 0, 3]\n",
    "y_pred = [1, 0, 1, 0, 0, 2, 1, 3]\n",
    "res = scoring(y_target=y_targ, y_predicted=y_pred, metric='error')\n",
    "\n",
    "print('Error: %s%%' % (res * 100))"
   ]
  },
  {
   "cell_type": "markdown",
   "metadata": {},
   "source": [
    "## API"
   ]
  },
  {
   "cell_type": "code",
   "execution_count": 1,
   "metadata": {},
   "outputs": [
    {
     "name": "stdout",
     "output_type": "stream",
     "text": [
      "## scoring\n",
      "\n",
      "*scoring(y_target, y_predicted, metric='error', positive_label=1, unique_labels='auto')*\n",
      "\n",
      "Compute a scoring metric for supervised learning.\n",
      "\n",
      "**Parameters**\n",
      "\n",
      "- `y_target` : array-like, shape=[n_values]\n",
      "\n",
      "    True class labels or target values.\n",
      "\n",
      "- `y_predicted` : array-like, shape=[n_values]\n",
      "\n",
      "    Predicted class labels or target values.\n",
      "\n",
      "- `metric` : str (default: 'error')\n",
      "\n",
      "    Performance metric:\n",
      "    'accuracy': (TP + TN)/(FP + FN + TP + TN) = 1-ERR\n",
      "\n",
      "    'per-class accuracy': Average per-class accuracy\n",
      "\n",
      "    'per-class error':  Average per-class error\n",
      "\n",
      "    'error': (TP + TN)/(FP+ FN + TP + TN) = 1-ACC\n",
      "\n",
      "    'false_positive_rate': FP/N = FP/(FP + TN)\n",
      "\n",
      "    'true_positive_rate': TP/P = TP/(FN + TP)\n",
      "\n",
      "    'true_negative_rate': TN/N = TN/(FP + TN)\n",
      "\n",
      "    'precision': TP/(TP + FP)\n",
      "\n",
      "    'recall': equal to 'true_positive_rate'\n",
      "\n",
      "    'sensitivity': equal to 'true_positive_rate' or 'recall'\n",
      "\n",
      "    'specificity': equal to 'true_negative_rate'\n",
      "\n",
      "    'f1': 2 * (PRE * REC)/(PRE + REC)\n",
      "\n",
      "    'matthews_corr_coef':  (TP*TN - FP*FN)\n",
      "    / (sqrt{(TP + FP)( TP + FN )( TN + FP )( TN + FN )})\n",
      "\n",
      "    Where:\n",
      "    [TP: True positives, TN = True negatives,\n",
      "\n",
      "    TN: True negatives, FN = False negatives]\n",
      "\n",
      "\n",
      "- `positive_label` : int (default: 1)\n",
      "\n",
      "    Label of the positive class for binary classification\n",
      "    metrics.\n",
      "\n",
      "- `unique_labels` : str or array-like (default: 'auto')\n",
      "\n",
      "    If 'auto', deduces the unique class labels from\n",
      "    y_target\n",
      "\n",
      "**Returns**\n",
      "\n",
      "- `score` : float\n",
      "\n",
      "\n",
      "\n"
     ]
    }
   ],
   "source": [
    "with open('../../api_modules/mlxtend.evaluate/scoring.md', 'r') as f:\n",
    "    print(f.read())"
   ]
  },
  {
   "cell_type": "code",
   "execution_count": null,
   "metadata": {
    "collapsed": true
   },
   "outputs": [],
   "source": []
  }
 ],
 "metadata": {
  "kernelspec": {
   "display_name": "Python 3",
   "language": "python",
   "name": "python3"
  },
  "language_info": {
   "codemirror_mode": {
    "name": "ipython",
    "version": 3
   },
   "file_extension": ".py",
   "mimetype": "text/x-python",
   "name": "python",
   "nbconvert_exporter": "python",
   "pygments_lexer": "ipython3",
   "version": "3.6.1"
  }
 },
 "nbformat": 4,
 "nbformat_minor": 1
}
