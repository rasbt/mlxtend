{
 "cells": [
  {
   "cell_type": "code",
   "execution_count": 2,
   "metadata": {
    "collapsed": true
   },
   "outputs": [],
   "source": [
    "%matplotlib inline"
   ]
  },
  {
   "cell_type": "markdown",
   "metadata": {},
   "source": [
    "# Empirical Cumulative Distribution Function Plot"
   ]
  },
  {
   "cell_type": "markdown",
   "metadata": {},
   "source": [
    "A function to conveniently plot an empirical cumulative distribution function. "
   ]
  },
  {
   "cell_type": "markdown",
   "metadata": {},
   "source": [
    "> from mlxtend.ecdf import ecdf"
   ]
  },
  {
   "cell_type": "markdown",
   "metadata": {},
   "source": [
    "## Overview"
   ]
  },
  {
   "cell_type": "markdown",
   "metadata": {},
   "source": [
    "A function to conveniently plot an empirical cumulative distribution function (ECDF) and adding percentile thresholds for exploratory data analysis."
   ]
  },
  {
   "cell_type": "markdown",
   "metadata": {},
   "source": [
    "### References\n",
    "\n",
    "- -"
   ]
  },
  {
   "cell_type": "markdown",
   "metadata": {},
   "source": [
    "## Example 1 - ECDF"
   ]
  },
  {
   "cell_type": "code",
   "execution_count": 3,
   "metadata": {},
   "outputs": [
    {
     "data": {
      "image/png": "[encoded data removed]",
      "text/plain": [
       "<matplotlib.figure.Figure at 0x1161f3d30>"
      ]
     },
     "metadata": {},
     "output_type": "display_data"
    }
   ],
   "source": [
    "from mlxtend.data import iris_data\n",
    "from mlxtend.plotting import ecdf\n",
    "import matplotlib.pyplot as plt\n",
    "\n",
    "X, y = iris_data()\n",
    "\n",
    "ax, _, _ = ecdf(x=X[:, 0], x_label='sepal length (cm)')\n",
    "plt.show()"
   ]
  },
  {
   "cell_type": "markdown",
   "metadata": {},
   "source": [
    "## Example 2 - Multiple ECDFs"
   ]
  },
  {
   "cell_type": "code",
   "execution_count": 5,
   "metadata": {},
   "outputs": [
    {
     "data": {
      "image/png": "[encoded data removed]",
      "text/plain": [
       "<matplotlib.figure.Figure at 0x11d30d898>"
      ]
     },
     "metadata": {},
     "output_type": "display_data"
    }
   ],
   "source": [
    "from mlxtend.data import iris_data\n",
    "from mlxtend.plotting import ecdf\n",
    "import matplotlib.pyplot as plt\n",
    "\n",
    "X, y = iris_data()\n",
    "\n",
    "# first ecdf\n",
    "x1 = X[:, 0]\n",
    "ax, _, _ = ecdf(x1, x_label='cm')\n",
    "\n",
    "# second ecdf\n",
    "x2 = X[:, 1]\n",
    "ax, _, _ = ecdf(x2, ax=ax)\n",
    "\n",
    "plt.legend(['sepal length', 'sepal width'])\n",
    "plt.show()"
   ]
  },
  {
   "cell_type": "markdown",
   "metadata": {},
   "source": [
    "## Example 3 - ECDF with Percentile Thresholds"
   ]
  },
  {
   "cell_type": "code",
   "execution_count": 7,
   "metadata": {},
   "outputs": [
    {
     "data": {
      "image/png": "[encoded data removed]",
      "text/plain": [
       "<matplotlib.figure.Figure at 0x1161f36d8>"
      ]
     },
     "metadata": {},
     "output_type": "display_data"
    },
    {
     "name": "stdout",
     "output_type": "stream",
     "text": [
      "Feature threshold at the 80th percentile: 6.5\n",
      "Number of samples below the threshold: 120\n"
     ]
    }
   ],
   "source": [
    "from mlxtend.data import iris_data\n",
    "from mlxtend.plotting import ecdf\n",
    "import matplotlib.pyplot as plt\n",
    "\n",
    "X, y = iris_data()\n",
    "\n",
    "ax, threshold, count = ecdf(x=X[:, 0], \n",
    "                            x_label='sepal length (cm)',\n",
    "                            percentile=0.8)\n",
    "\n",
    "plt.show()\n",
    "\n",
    "print('Feature threshold at the 80th percentile:', threshold)\n",
    "print('Number of samples below the threshold:', count)"
   ]
  },
  {
   "cell_type": "markdown",
   "metadata": {},
   "source": [
    "## API"
   ]
  },
  {
   "cell_type": "code",
   "execution_count": 1,
   "metadata": {},
   "outputs": [
    {
     "name": "stdout",
     "output_type": "stream",
     "text": [
      "## ecdf\n",
      "\n",
      "*ecdf(x, y_label='ECDF', x_label=None, ax=None, percentile=None, ecdf_color=None, ecdf_marker='o', percentile_color='black', percentile_linestyle='--')*\n",
      "\n",
      "Plots an Empirical Cumulative Distribution Function\n",
      "\n",
      "**Parameters**\n",
      "\n",
      "- `x` : array or list, shape=[n_samples,]\n",
      "\n",
      "    Array-like object containing the feature values\n",
      "\n",
      "- `y_label` : str (default='ECDF')\n",
      "\n",
      "    Text label for the y-axis\n",
      "\n",
      "- `x_label` : str (default=None)\n",
      "\n",
      "    Text label for the x-axis\n",
      "\n",
      "- `ax` : matplotlib.axes.Axes (default: None)\n",
      "\n",
      "    An existing matplotlib Axes. Creates\n",
      "    one if ax=None\n",
      "\n",
      "- `percentile` : float (default=None)\n",
      "\n",
      "    Float between 0 and 1 for plotting a percentile\n",
      "    threshold line\n",
      "\n",
      "- `ecdf_color` : matplotlib color (default=None)\n",
      "\n",
      "    Color for the ECDF plot; uses matplotlib defaults\n",
      "    if None\n",
      "\n",
      "- `ecdf_marker` : matplotlib marker (default='o')\n",
      "\n",
      "    Marker style for the ECDF plot\n",
      "\n",
      "- `percentile_color` : matplotlib color (default='black')\n",
      "\n",
      "    Color for the percentile threshold if percentile is not None\n",
      "\n",
      "- `percentile_linestyle` : matplotlib linestyle (default='--')\n",
      "\n",
      "    Line style for the percentile threshold if percentile is not None\n",
      "\n",
      "**Returns**\n",
      "\n",
      "- `ax` : matplotlib.axes.Axes object\n",
      "\n",
      "\n",
      "- `percentile_threshold` : float\n",
      "\n",
      "    Feature threshold at the percentile or None if `percentile=None`\n",
      "\n",
      "- `percentile_count` : Number of if percentile is not None\n",
      "\n",
      "    Number of samples that have a feature less or equal than\n",
      "    the feature threshold at a percentile threshold\n",
      "    or None if `percentile=None`\n",
      "\n",
      "\n"
     ]
    }
   ],
   "source": [
    "with open('../../api_modules/mlxtend.plotting/ecdf.md', 'r') as f:\n",
    "    print(f.read())"
   ]
  },
  {
   "cell_type": "code",
   "execution_count": null,
   "metadata": {
    "collapsed": true
   },
   "outputs": [],
   "source": []
  }
 ],
 "metadata": {
  "anaconda-cloud": {},
  "kernelspec": {
   "display_name": "Python 3",
   "language": "python",
   "name": "python3"
  },
  "language_info": {
   "codemirror_mode": {
    "name": "ipython",
    "version": 3
   },
   "file_extension": ".py",
   "mimetype": "text/x-python",
   "name": "python",
   "nbconvert_exporter": "python",
   "pygments_lexer": "ipython3",
   "version": "3.6.1"
  }
 },
 "nbformat": 4,
 "nbformat_minor": 1
}
