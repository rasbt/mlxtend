{
 "cells": [
  {
   "cell_type": "code",
   "execution_count": 1,
   "metadata": {
    "collapsed": true
   },
   "outputs": [],
   "source": [
    "%matplotlib inline"
   ]
  },
  {
   "cell_type": "markdown",
   "metadata": {},
   "source": [
    "# Linear Regression Plot"
   ]
  },
  {
   "cell_type": "markdown",
   "metadata": {},
   "source": [
    "A function to plot linear regression fits. "
   ]
  },
  {
   "cell_type": "markdown",
   "metadata": {},
   "source": [
    "> from mlxtend.plotting import plot_linear_regression"
   ]
  },
  {
   "cell_type": "markdown",
   "metadata": {},
   "source": [
    "## Overview"
   ]
  },
  {
   "cell_type": "markdown",
   "metadata": {},
   "source": [
    "The `plot_linear_regression` is a convenience function that uses scikit-learn's `linear_model.LinearRegression` to fit a linear model and SciPy's `stats.pearsonr` to calculate the correlation coefficient. "
   ]
  },
  {
   "cell_type": "markdown",
   "metadata": {},
   "source": [
    "### References\n",
    "\n",
    "- -"
   ]
  },
  {
   "cell_type": "markdown",
   "metadata": {},
   "source": [
    "## Example 1 - Ordinary Least Squares Simple Linear Regression"
   ]
  },
  {
   "cell_type": "code",
   "execution_count": 2,
   "metadata": {},
   "outputs": [
    {
     "data": {
      "image/png": "[encoded data removed]",
      "text/plain": [
       "<matplotlib.figure.Figure at 0x10df67b70>"
      ]
     },
     "metadata": {},
     "output_type": "display_data"
    }
   ],
   "source": [
    "import matplotlib.pyplot as plt\n",
    "from mlxtend.plotting import plot_linear_regression\n",
    "import numpy as np\n",
    "\n",
    "X = np.array([4, 8, 13, 26, 31, 10, 8, 30, 18, 12, 20, 5, 28, 18, 6, 31, 12,\n",
    "   12, 27, 11, 6, 14, 25, 7, 13,4, 15, 21, 15])\n",
    "\n",
    "y = np.array([14, 24, 22, 59, 66, 25, 18, 60, 39, 32, 53, 18, 55, 41, 28, 61, 35,\n",
    "   36, 52, 23, 19, 25, 73, 16, 32, 14, 31, 43, 34])\n",
    "\n",
    "intercept, slope, corr_coeff = plot_linear_regression(X, y)\n",
    "plt.show()"
   ]
  },
  {
   "cell_type": "markdown",
   "metadata": {},
   "source": [
    "## API"
   ]
  },
  {
   "cell_type": "code",
   "execution_count": 1,
   "metadata": {},
   "outputs": [
    {
     "name": "stdout",
     "output_type": "stream",
     "text": [
      "## plot_linear_regression\n",
      "\n",
      "*plot_linear_regression(X, y, model=LinearRegression(copy_X=True, fit_intercept=True, n_jobs=1, normalize=False), corr_func='pearsonr', scattercolor='blue', fit_style='k--', legend=True, xlim='auto')*\n",
      "\n",
      "Plot a linear regression line fit.\n",
      "\n",
      "**Parameters**\n",
      "\n",
      "- `X` : numpy array, shape = [n_samples,]\n",
      "\n",
      "    Samples.\n",
      "\n",
      "- `y` : numpy array, shape (n_samples,)\n",
      "\n",
      "    Target values\n",
      "    model: object (default: sklearn.linear_model.LinearRegression)\n",
      "    Estimator object for regression. Must implement\n",
      "    a .fit() and .predict() method.\n",
      "    corr_func: str or function (default: 'pearsonr')\n",
      "    Uses `pearsonr` from scipy.stats if corr_func='pearsonr'.\n",
      "    to compute the regression slope. If not 'pearsonr', the `corr_func`,\n",
      "    the `corr_func` parameter expects a function of the form\n",
      "    func(<x-array>, <y-array>) as inputs, which is expected to return\n",
      "    a tuple `(<correlation_coefficient>, <some_unused_value>)`.\n",
      "    scattercolor: string (default: blue)\n",
      "    Color of scatter plot points.\n",
      "    fit_style: string (default: k--)\n",
      "    Style for the line fit.\n",
      "    legend: bool (default: True)\n",
      "    Plots legend with corr_coeff coef.,\n",
      "    fit coef., and intercept values.\n",
      "    xlim: array-like (x_min, x_max) or 'auto' (default: 'auto')\n",
      "    X-axis limits for the linear line fit.\n",
      "\n",
      "**Returns**\n",
      "\n",
      "- `regression_fit` : tuple\n",
      "\n",
      "    intercept, slope, corr_coeff (float, float, float)\n",
      "\n",
      "\n"
     ]
    }
   ],
   "source": [
    "with open('../../api_modules/mlxtend.plotting/plot_linear_regression.md', 'r') as f:\n",
    "    print(f.read())"
   ]
  },
  {
   "cell_type": "code",
   "execution_count": null,
   "metadata": {
    "collapsed": true
   },
   "outputs": [],
   "source": []
  }
 ],
 "metadata": {
  "anaconda-cloud": {},
  "kernelspec": {
   "display_name": "Python 3",
   "language": "python",
   "name": "python3"
  },
  "language_info": {
   "codemirror_mode": {
    "name": "ipython",
    "version": 3
   },
   "file_extension": ".py",
   "mimetype": "text/x-python",
   "name": "python",
   "nbconvert_exporter": "python",
   "pygments_lexer": "ipython3",
   "version": "3.6.1"
  }
 },
 "nbformat": 4,
 "nbformat_minor": 1
}
