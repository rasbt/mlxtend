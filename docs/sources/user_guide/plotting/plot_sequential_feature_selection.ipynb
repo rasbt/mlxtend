{
 "cells": [
  {
   "cell_type": "code",
   "execution_count": 1,
   "metadata": {
    "collapsed": true
   },
   "outputs": [],
   "source": [
    "%matplotlib inline"
   ]
  },
  {
   "cell_type": "markdown",
   "metadata": {},
   "source": [
    "# Plot Sequential Feature Selection"
   ]
  },
  {
   "cell_type": "markdown",
   "metadata": {},
   "source": [
    "A matplotlib utility function for visualizing results from [`feature_selection.SequentialFeatureSelector`](`../feature_selection/SequentialFeatureSelector.md`)."
   ]
  },
  {
   "cell_type": "markdown",
   "metadata": {},
   "source": [
    "> from mlxtend.plotting import plot_sequential_feature_selection"
   ]
  },
  {
   "cell_type": "markdown",
   "metadata": {},
   "source": [
    "# Overview"
   ]
  },
  {
   "cell_type": "markdown",
   "metadata": {},
   "source": [
    "for more information on sequential feature selection, please see [`feature_selection.SequentialFeatureSelector`](`../feature_selection/SequentialFeatureSelector.md`)."
   ]
  },
  {
   "cell_type": "markdown",
   "metadata": {},
   "source": [
    "## Example 1 - Plotting the results from SequentialFeatureSelector"
   ]
  },
  {
   "cell_type": "code",
   "execution_count": 2,
   "metadata": {},
   "outputs": [
    {
     "data": {
      "image/png": "[encoded data removed]",
      "text/plain": [
       "<Figure size 432x288 with 1 Axes>"
      ]
     },
     "metadata": {
      "needs_background": "light"
     },
     "output_type": "display_data"
    }
   ],
   "source": [
    "from mlxtend.plotting import plot_sequential_feature_selection as plot_sfs\n",
    "from mlxtend.feature_selection import SequentialFeatureSelector as SFS\n",
    "import matplotlib.pyplot as plt\n",
    "from sklearn.neighbors import KNeighborsClassifier\n",
    "from sklearn.datasets import load_iris\n",
    "\n",
    "iris = load_iris()\n",
    "X = iris.data\n",
    "y = iris.target\n",
    "knn = KNeighborsClassifier(n_neighbors=4)\n",
    "\n",
    "sfs = SFS(knn, \n",
    "          k_features=4, \n",
    "          forward=True, \n",
    "          floating=False,\n",
    "          scoring='accuracy',\n",
    "          cv=5)\n",
    "\n",
    "sfs = sfs.fit(X, y)\n",
    "\n",
    "fig1 = plot_sfs(sfs.get_metric_dict(),\n",
    "                kind='std_dev',\n",
    "                figsize=(6, 4))\n",
    "\n",
    "plt.ylim([0.8, 1])\n",
    "plt.title('Sequential Forward Selection (w. StdDev)')\n",
    "plt.grid()\n",
    "plt.show()"
   ]
  },
  {
   "cell_type": "markdown",
   "metadata": {},
   "source": [
    "# API"
   ]
  },
  {
   "cell_type": "code",
   "execution_count": 3,
   "metadata": {},
   "outputs": [
    {
     "name": "stdout",
     "output_type": "stream",
     "text": [
      "## plot_sequential_feature_selection\n",
      "\n",
      "*plot_sequential_feature_selection(metric_dict, figsize=None, kind='std_dev', color='blue', bcolor='steelblue', marker='o', alpha=0.2, ylabel='Performance', confidence_interval=0.95)*\n",
      "\n",
      "Plot feature selection results.\n",
      "\n",
      "**Parameters**\n",
      "\n",
      "- `metric_dict` : mlxtend.SequentialFeatureSelector.get_metric_dict() object\n",
      "\n",
      "\n",
      "- `figsize` : tuple (default: None)\n",
      "\n",
      "    Height and width of the figure\n",
      "\n",
      "- `kind` : str (default: \"std_dev\")\n",
      "\n",
      "    The kind of error bar or confidence interval in\n",
      "    {'std_dev', 'std_err', 'ci', None}.\n",
      "\n",
      "- `color` : str (default: \"blue\")\n",
      "\n",
      "    Color of the lineplot (accepts any matplotlib color name)\n",
      "\n",
      "- `bcolor` : str (default: \"steelblue\").\n",
      "\n",
      "    Color of the error bars / confidence intervals\n",
      "    (accepts any matplotlib color name).\n",
      "\n",
      "- `marker` : str (default: \"o\")\n",
      "\n",
      "    Marker of the line plot\n",
      "    (accepts any matplotlib marker name).\n",
      "\n",
      "- `alpha` : float in [0, 1] (default: 0.2)\n",
      "\n",
      "    Transparency of the error bars / confidence intervals.\n",
      "\n",
      "- `ylabel` : str (default: \"Performance\")\n",
      "\n",
      "    Y-axis label.\n",
      "\n",
      "- `confidence_interval` : float (default: 0.95)\n",
      "\n",
      "    Confidence level if `kind='ci'`.\n",
      "\n",
      "**Returns**\n",
      "\n",
      "- `fig` : matplotlib.pyplot.figure() object\n",
      "\n",
      "\n",
      "**Examples**\n",
      "\n",
      "For usage examples, please see\n",
      "    [http://rasbt.github.io/mlxtend/user_guide/plotting/plot_sequential_feature_selection/](http://rasbt.github.io/mlxtend/user_guide/plotting/plot_sequential_feature_selection/)\n",
      "\n",
      "\n"
     ]
    }
   ],
   "source": [
    "with open('../../api_modules/mlxtend.plotting/plot_sequential_feature_selection.md', 'r') as f:\n",
    "    s = f.read()\n",
    "print(s)"
   ]
  },
  {
   "cell_type": "code",
   "execution_count": null,
   "metadata": {},
   "outputs": [],
   "source": []
  }
 ],
 "metadata": {
  "anaconda-cloud": {},
  "kernelspec": {
   "display_name": "Python 3",
   "language": "python",
   "name": "python3"
  },
  "language_info": {
   "codemirror_mode": {
    "name": "ipython",
    "version": 3
   },
   "file_extension": ".py",
   "mimetype": "text/x-python",
   "name": "python",
   "nbconvert_exporter": "python",
   "pygments_lexer": "ipython3",
   "version": "3.7.1"
  },
  "toc": {
   "nav_menu": {},
   "number_sections": true,
   "sideBar": true,
   "skip_h1_title": false,
   "title_cell": "Table of Contents",
   "title_sidebar": "Contents",
   "toc_cell": false,
   "toc_position": {},
   "toc_section_display": true,
   "toc_window_display": false
  }
 },
 "nbformat": 4,
 "nbformat_minor": 2
}
