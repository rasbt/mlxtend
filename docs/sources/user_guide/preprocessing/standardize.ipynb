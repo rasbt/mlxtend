{
 "cells": [
  {
   "cell_type": "markdown",
   "metadata": {},
   "source": [
    "# Standardize"
   ]
  },
  {
   "cell_type": "markdown",
   "metadata": {},
   "source": [
    "A function that performs column-based standardization on a NumPy array."
   ]
  },
  {
   "cell_type": "markdown",
   "metadata": {},
   "source": [
    "> from mlxtend.preprocessing import standardize"
   ]
  },
  {
   "cell_type": "markdown",
   "metadata": {},
   "source": [
    "## Overview"
   ]
  },
  {
   "cell_type": "markdown",
   "metadata": {},
   "source": [
    "The result of standardization (or Z-score normalization) is that the features will be rescaled so that they'll have the properties of a standard normal distribution with\n",
    "\n",
    "$\\mu = 0$ and $\\sigma = 1$.\n",
    "\n",
    "where $\\mu$ is the mean (average) and $\\sigma$ is the standard deviation from the mean; standard scores (also called z scores) of the samples are calculated as\n",
    "\n",
    "$$z=\\frac{x-\\mu}{\\sigma}.$$\n",
    "\n",
    "Standardizing the features so that they are centered around 0 with a standard deviation of 1 is not only important if we are comparing measurements that have different units, but it is also a general requirement for the optimal performance of many machine learning algorithms. "
   ]
  },
  {
   "cell_type": "markdown",
   "metadata": {},
   "source": [
    "One family of algorithms that is scale-invariant encompasses tree-based learning algorithms. Let's take the general CART decision tree algorithm. Without going into much depth regarding information gain and impurity measures, we can think of the decision as \"is feature x_i >= some_val?\" Intuitively, we can see that it really doesn't matter on which scale this feature is (centimeters, Fahrenheit, a standardized scale -- it really doesn't matter).\n",
    "\n",
    "\n",
    "Some examples of algorithms where feature scaling matters are:\n",
    "\n",
    "\n",
    "- k-nearest neighbors with an Euclidean distance measure if want all features to contribute equally\n",
    "- k-means (see k-nearest neighbors)\n",
    "- logistic regression, SVMs, perceptrons, neural networks etc. if you are using gradient descent/ascent-based optimization, otherwise some weights will update much faster than others\n",
    "- linear discriminant analysis, principal component analysis, kernel principal component analysis since you want to find directions of maximizing the variance (under the constraints that those directions/eigenvectors/principal components are orthogonal); you want to have features on the same scale since you'd emphasize variables on \"larger measurement scales\" more.\n",
    "\n",
    "\n",
    "There are many more cases than I can possibly list here ... I always recommend you to think about the algorithm and what it's doing, and then it typically becomes obvious whether we want to scale your features or not.\n",
    "\n",
    "\n",
    "In addition, we'd also want to think about whether we want to \"standardize\" or \"normalize\" (here: scaling to [0, 1] range) our data. Some algorithms assume that our data is centered at 0. For example, if we initialize the weights of a small multi-layer perceptron with tanh activation units to 0 or small random values centered around zero, we want to update the model weights \"equally.\"\n",
    "As a rule of thumb I'd say: When in doubt, just standardize the data, it shouldn't hurt.   \n",
    "\n",
    "\n",
    " "
   ]
  },
  {
   "cell_type": "markdown",
   "metadata": {},
   "source": [
    "## Example 1 - Standardize a Pandas DataFrame"
   ]
  },
  {
   "cell_type": "code",
   "execution_count": 1,
   "metadata": {},
   "outputs": [
    {
     "data": {
      "text/html": [
       "<div>\n",
       "<table border=\"1\" class=\"dataframe\">\n",
       "  <thead>\n",
       "    <tr style=\"text-align: right;\">\n",
       "      <th></th>\n",
       "      <th>s1</th>\n",
       "      <th>s2</th>\n",
       "    </tr>\n",
       "  </thead>\n",
       "  <tbody>\n",
       "    <tr>\n",
       "      <th>0</th>\n",
       "      <td>1</td>\n",
       "      <td>10</td>\n",
       "    </tr>\n",
       "    <tr>\n",
       "      <th>1</th>\n",
       "      <td>2</td>\n",
       "      <td>9</td>\n",
       "    </tr>\n",
       "    <tr>\n",
       "      <th>2</th>\n",
       "      <td>3</td>\n",
       "      <td>8</td>\n",
       "    </tr>\n",
       "    <tr>\n",
       "      <th>3</th>\n",
       "      <td>4</td>\n",
       "      <td>7</td>\n",
       "    </tr>\n",
       "    <tr>\n",
       "      <th>4</th>\n",
       "      <td>5</td>\n",
       "      <td>6</td>\n",
       "    </tr>\n",
       "    <tr>\n",
       "      <th>5</th>\n",
       "      <td>6</td>\n",
       "      <td>5</td>\n",
       "    </tr>\n",
       "  </tbody>\n",
       "</table>\n",
       "</div>"
      ],
      "text/plain": [
       "   s1  s2\n",
       "0   1  10\n",
       "1   2   9\n",
       "2   3   8\n",
       "3   4   7\n",
       "4   5   6\n",
       "5   6   5"
      ]
     },
     "execution_count": 1,
     "metadata": {},
     "output_type": "execute_result"
    }
   ],
   "source": [
    "import pandas as pd\n",
    "\n",
    "s1 = pd.Series([1, 2, 3, 4, 5, 6], index=(range(6)))\n",
    "s2 = pd.Series([10, 9, 8, 7, 6, 5], index=(range(6)))\n",
    "df = pd.DataFrame(s1, columns=['s1'])\n",
    "df['s2'] = s2\n",
    "df"
   ]
  },
  {
   "cell_type": "code",
   "execution_count": 2,
   "metadata": {},
   "outputs": [
    {
     "data": {
      "text/html": [
       "<div>\n",
       "<table border=\"1\" class=\"dataframe\">\n",
       "  <thead>\n",
       "    <tr style=\"text-align: right;\">\n",
       "      <th></th>\n",
       "      <th>s1</th>\n",
       "      <th>s2</th>\n",
       "    </tr>\n",
       "  </thead>\n",
       "  <tbody>\n",
       "    <tr>\n",
       "      <th>0</th>\n",
       "      <td>-1.46385</td>\n",
       "      <td>1.46385</td>\n",
       "    </tr>\n",
       "    <tr>\n",
       "      <th>1</th>\n",
       "      <td>-0.87831</td>\n",
       "      <td>0.87831</td>\n",
       "    </tr>\n",
       "    <tr>\n",
       "      <th>2</th>\n",
       "      <td>-0.29277</td>\n",
       "      <td>0.29277</td>\n",
       "    </tr>\n",
       "    <tr>\n",
       "      <th>3</th>\n",
       "      <td>0.29277</td>\n",
       "      <td>-0.29277</td>\n",
       "    </tr>\n",
       "    <tr>\n",
       "      <th>4</th>\n",
       "      <td>0.87831</td>\n",
       "      <td>-0.87831</td>\n",
       "    </tr>\n",
       "    <tr>\n",
       "      <th>5</th>\n",
       "      <td>1.46385</td>\n",
       "      <td>-1.46385</td>\n",
       "    </tr>\n",
       "  </tbody>\n",
       "</table>\n",
       "</div>"
      ],
      "text/plain": [
       "        s1       s2\n",
       "0 -1.46385  1.46385\n",
       "1 -0.87831  0.87831\n",
       "2 -0.29277  0.29277\n",
       "3  0.29277 -0.29277\n",
       "4  0.87831 -0.87831\n",
       "5  1.46385 -1.46385"
      ]
     },
     "execution_count": 2,
     "metadata": {},
     "output_type": "execute_result"
    }
   ],
   "source": [
    "from mlxtend.preprocessing import standardize\n",
    "standardize(df, columns=['s1', 's2'])"
   ]
  },
  {
   "cell_type": "markdown",
   "metadata": {},
   "source": [
    "## Example 2 - Standardize a NumPy Array"
   ]
  },
  {
   "cell_type": "code",
   "execution_count": 3,
   "metadata": {},
   "outputs": [
    {
     "data": {
      "text/plain": [
       "array([[ 1, 10],\n",
       "       [ 2,  9],\n",
       "       [ 3,  8],\n",
       "       [ 4,  7],\n",
       "       [ 5,  6],\n",
       "       [ 6,  5]])"
      ]
     },
     "execution_count": 3,
     "metadata": {},
     "output_type": "execute_result"
    }
   ],
   "source": [
    "import numpy as np\n",
    "\n",
    "X = np.array([[1, 10], [2, 9], [3, 8], [4, 7], [5, 6], [6, 5]])\n",
    "X"
   ]
  },
  {
   "cell_type": "code",
   "execution_count": 4,
   "metadata": {},
   "outputs": [
    {
     "data": {
      "text/plain": [
       "array([[-1.46385011,  1.46385011],\n",
       "       [-0.87831007,  0.87831007],\n",
       "       [-0.29277002,  0.29277002],\n",
       "       [ 0.29277002, -0.29277002],\n",
       "       [ 0.87831007, -0.87831007],\n",
       "       [ 1.46385011, -1.46385011]])"
      ]
     },
     "execution_count": 4,
     "metadata": {},
     "output_type": "execute_result"
    }
   ],
   "source": [
    "from mlxtend.preprocessing import standardize\n",
    "standardize(X, columns=[0, 1])"
   ]
  },
  {
   "cell_type": "markdown",
   "metadata": {},
   "source": [
    "## Example 3 - Re-using parameters"
   ]
  },
  {
   "cell_type": "markdown",
   "metadata": {},
   "source": [
    "In machine learning contexts, it is desired to re-use the parameters that have been obtained from a training set to scale new, future data (including the independent test set). By setting `return_params=True`, the `standardize` function returns a second object, a parameter dictionary containing the column means and standard deviations that can be re-used by feeding it to the `params` parameter upon function call."
   ]
  },
  {
   "cell_type": "code",
   "execution_count": 5,
   "metadata": {},
   "outputs": [
    {
     "data": {
      "text/plain": [
       "array([[-1.33630621,  1.33630621],\n",
       "       [ 1.06904497, -1.06904497],\n",
       "       [ 0.26726124, -0.26726124]])"
      ]
     },
     "execution_count": 5,
     "metadata": {},
     "output_type": "execute_result"
    }
   ],
   "source": [
    "import numpy as np\n",
    "from mlxtend.preprocessing import standardize\n",
    "\n",
    "X_train = np.array([[1, 10], [4, 7], [3, 8]])\n",
    "X_test = np.array([[1, 2], [3, 4], [5, 6]])\n",
    "\n",
    "X_train_std, params = standardize(X_train, \n",
    "                                  columns=[0, 1], \n",
    "                                  return_params=True)\n",
    "X_train_std"
   ]
  },
  {
   "cell_type": "code",
   "execution_count": 6,
   "metadata": {},
   "outputs": [
    {
     "data": {
      "text/plain": [
       "{'avgs': array([ 2.66666667,  8.33333333]),\n",
       " 'stds': array([ 1.24721913,  1.24721913])}"
      ]
     },
     "execution_count": 6,
     "metadata": {},
     "output_type": "execute_result"
    }
   ],
   "source": [
    "params"
   ]
  },
  {
   "cell_type": "code",
   "execution_count": 7,
   "metadata": {},
   "outputs": [
    {
     "data": {
      "text/plain": [
       "array([[-1.33630621, -5.0779636 ],\n",
       "       [ 0.26726124, -3.47439614],\n",
       "       [ 1.87082869, -1.87082869]])"
      ]
     },
     "execution_count": 7,
     "metadata": {},
     "output_type": "execute_result"
    }
   ],
   "source": [
    "X_test_std = standardize(X_test, \n",
    "                         columns=[0, 1], \n",
    "                         params=params)\n",
    "X_test_std"
   ]
  },
  {
   "cell_type": "markdown",
   "metadata": {},
   "source": [
    "## API"
   ]
  },
  {
   "cell_type": "code",
   "execution_count": 1,
   "metadata": {},
   "outputs": [
    {
     "name": "stdout",
     "output_type": "stream",
     "text": [
      "## standardize\n",
      "\n",
      "*standardize(array, columns=None, ddof=0, return_params=False, params=None)*\n",
      "\n",
      "Standardize columns in pandas DataFrames.\n",
      "\n",
      "**Parameters**\n",
      "\n",
      "- `array` : pandas DataFrame or NumPy ndarray, shape = [n_rows, n_columns].\n",
      "\n",
      "\n",
      "- `columns` : array-like, shape = [n_columns] (default: None)\n",
      "\n",
      "    Array-like with column names, e.g., ['col1', 'col2', ...]\n",
      "    or column indices [0, 2, 4, ...]\n",
      "    If None, standardizes all columns.\n",
      "\n",
      "- `ddof` : int (default: 0)\n",
      "\n",
      "    Delta Degrees of Freedom. The divisor used in calculations\n",
      "    is N - ddof, where N represents the number of elements.\n",
      "\n",
      "- `return_params` : dict (default: False)\n",
      "\n",
      "    If set to True, a dictionary is returned in addition to the\n",
      "    standardized array. The parameter dictionary contains the\n",
      "    column means ('avgs') and standard deviations ('stds') of\n",
      "    the individual columns.\n",
      "\n",
      "- `params` : dict (default: None)\n",
      "\n",
      "    A dictionary with column means and standard deviations as\n",
      "    returned by the `standardize` function if `return_params`\n",
      "    was set to True. If a `params` dictionary is provided, the\n",
      "    `standardize` function will use these instead of computing\n",
      "    them from the current array.\n",
      "\n",
      "**Notes**\n",
      "\n",
      "If all values in a given column are the same, these values are all\n",
      "    set to `0.0`. The standard deviation in the `parameters` dictionary\n",
      "    is consequently set to `1.0` to avoid dividing by zero.\n",
      "\n",
      "**Returns**\n",
      "\n",
      "- `df_new` : pandas DataFrame object.\n",
      "\n",
      "    Copy of the array or DataFrame with standardized columns.\n",
      "\n",
      "\n"
     ]
    }
   ],
   "source": [
    "with open('../../api_modules/mlxtend.preprocessing/standardize.md', 'r') as f:\n",
    "    print(f.read())"
   ]
  },
  {
   "cell_type": "code",
   "execution_count": null,
   "metadata": {
    "collapsed": true
   },
   "outputs": [],
   "source": []
  }
 ],
 "metadata": {
  "anaconda-cloud": {},
  "kernelspec": {
   "display_name": "Python 3",
   "language": "python",
   "name": "python3"
  },
  "language_info": {
   "codemirror_mode": {
    "name": "ipython",
    "version": 3
   },
   "file_extension": ".py",
   "mimetype": "text/x-python",
   "name": "python",
   "nbconvert_exporter": "python",
   "pygments_lexer": "ipython3",
   "version": "3.6.1"
  }
 },
 "nbformat": 4,
 "nbformat_minor": 1
}
